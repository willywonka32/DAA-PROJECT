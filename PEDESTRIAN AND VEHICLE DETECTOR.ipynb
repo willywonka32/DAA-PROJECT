{
 "cells": [
  {
   "cell_type": "code",
   "execution_count": 1,
   "metadata": {},
   "outputs": [
    {
     "ename": "ModuleNotFoundError",
     "evalue": "No module named 'cv2'",
     "output_type": "error",
     "traceback": [
      "\u001b[1;31m---------------------------------------------------------------------------\u001b[0m",
      "\u001b[1;31mModuleNotFoundError\u001b[0m                       Traceback (most recent call last)",
      "\u001b[1;32m<ipython-input-1-4ada88ad124c>\u001b[0m in \u001b[0;36m<module>\u001b[1;34m\u001b[0m\n\u001b[0;32m      1\u001b[0m \u001b[1;31m#WE IMPORT THE OPEN-CV LIBRARY\u001b[0m\u001b[1;33m\u001b[0m\u001b[1;33m\u001b[0m\u001b[1;33m\u001b[0m\u001b[0m\n\u001b[1;32m----> 2\u001b[1;33m \u001b[1;32mimport\u001b[0m \u001b[0mcv2\u001b[0m\u001b[1;33m\u001b[0m\u001b[1;33m\u001b[0m\u001b[0m\n\u001b[0m\u001b[0;32m      3\u001b[0m \u001b[1;32mfrom\u001b[0m \u001b[0mrandom\u001b[0m \u001b[1;32mimport\u001b[0m \u001b[0mrandrange\u001b[0m\u001b[1;33m\u001b[0m\u001b[1;33m\u001b[0m\u001b[0m\n\u001b[0;32m      4\u001b[0m \u001b[1;31m#PROVIDING PRE-TRAINED HAAR CASCADE IMAGE CLASSIFIER\u001b[0m\u001b[1;33m\u001b[0m\u001b[1;33m\u001b[0m\u001b[1;33m\u001b[0m\u001b[0m\n\u001b[0;32m      5\u001b[0m \u001b[0mcar_tracker\u001b[0m\u001b[1;33m=\u001b[0m\u001b[0mcv2\u001b[0m\u001b[1;33m.\u001b[0m\u001b[0mCascadeClassifier\u001b[0m\u001b[1;33m(\u001b[0m\u001b[1;34m'car_detector.xml'\u001b[0m\u001b[1;33m)\u001b[0m\u001b[1;33m\u001b[0m\u001b[1;33m\u001b[0m\u001b[0m\n",
      "\u001b[1;31mModuleNotFoundError\u001b[0m: No module named 'cv2'"
     ]
    }
   ],
   "source": [
    "#WE IMPORT THE OPEN-CV LIBRARY \n",
    "import cv2\n",
    "from random import randrange\n",
    "#PROVIDING PRE-TRAINED HAAR CASCADE IMAGE CLASSIFIER\n",
    "car_tracker=cv2.CascadeClassifier('car_detector.xml')\n",
    "#\n",
    "pedestrian_tracker=cv2.CascadeClassifier('haarcascade_fullbody.xml')\n",
    "#FOR CAPTURING THE VIDEO ON THE SYSTEM\n",
    "cam=cv2.VideoCapture('Pedestrians Compilation.mp4')\n",
    "    \n",
    "#WE USE WHILE TRUE SO THAT THE CAM RUNS UNTIL WE COMMAND IT TO STOP    \n",
    "while True:\n",
    "    \n",
    "    #WE GET THE CAM READ-> THIS HAS TWO PARTS THE ACTUAL FRAME STORED IN FRAME AND A BOOL VALUE WHICH IS ALWAYS TRUE IN SUCCESSFUL_READ\n",
    "    successful_read, frame=cam.read()\n",
    "    \n",
    "    #WE CONVERT THE COLORED IMAGES TO BLACK AND WHITE TO MAKE THE DETECTION EASIER FOR HAARCASCADE\n",
    "    grayscaled_image=cv2.cvtColor(frame,cv2.COLOR_BGR2GRAY)\n",
    "    \n",
    "    #WE GET THE COORDINATES FOR THE PLACE WHERE THE CAR&PEDESTRIANS ARE PRESENT\n",
    "    car_coordinates=car_tracker.detectMultiScale(grayscaled_image,1.4,1)\n",
    "    pedestrian_coordinates=pedestrian_tracker.detectMultiScale(grayscaled_image,1.2,3)\n",
    "   \n",
    "    #WE GET X-COORDINATE, Y-COORDINATE OF THE TOP LEFT CORNER AND THE HEIGHT AND WIDTH OF THE REGION OF THE CARS & PEDESTRIANS\n",
    "    for(x,y,h,w) in car_coordinates:\n",
    "        \n",
    "        #WE PLOT A RECTANGLE AROUND THE FACE\n",
    "        cv2.rectangle(frame,(x,y),(x+w,y+h),(0,0,255),2)\n",
    "    \n",
    "    for(x,y,h,w) in pedestrian_coordinates:\n",
    "        \n",
    "        #WE PLOT A RECTANGLE AROUND THE FACE\n",
    "        cv2.rectangle(frame,(x,y),(x+w,y+h),(0,255,0),2)\n",
    "        \n",
    "        #CODE IF U WANT TO USE AND ELLIPSE INSTEAD OF A RECTANGLE\n",
    "        #center = (x + w//2, y + h//2)\n",
    "        #frame = cv2.ellipse(frame, center, (w//2, h//2), 0, 0, 360, (255, 0, 255), 4)\n",
    "    \n",
    "    #THIS SHOWS THE VIDEO WITH THE RECTANGLE SHAPE OVER THE DETECTED CAR&PEDESTRIANS\n",
    "    cv2.imshow('CAR&PEDESTRIAN DETECTOR',frame)\n",
    "    \n",
    "    #THIS COMMAND KEEPS THE VIDEO FEED ON UNTIL WE COMMAND IT TO CLOSE AND 1 SIGNIFY AFTER 1ms THE FRAMES WILL CHANGE \n",
    "    if cv2.waitKey(1)==13:\n",
    "        break\n",
    "    #WE USE Q KEY BOTH UPPER AND LOWERCASE TO BREAK OUT OF THE LOOP AND THEN RELEASE THE FEED\n",
    "    #if key==81 or key==113:\n",
    "\n",
    "cam.release()        \n",
    "cv2.destroyAllWindows()"
   ]
  },
  {
   "cell_type": "code",
   "execution_count": null,
   "metadata": {},
   "outputs": [],
   "source": []
  },
  {
   "cell_type": "code",
   "execution_count": null,
   "metadata": {},
   "outputs": [],
   "source": []
  }
 ],
 "metadata": {
  "kernelspec": {
   "display_name": "Python 3",
   "language": "python",
   "name": "python3"
  },
  "language_info": {
   "codemirror_mode": {
    "name": "ipython",
    "version": 3
   },
   "file_extension": ".py",
   "mimetype": "text/x-python",
   "name": "python",
   "nbconvert_exporter": "python",
   "pygments_lexer": "ipython3",
   "version": "3.8.5"
  }
 },
 "nbformat": 4,
 "nbformat_minor": 4
}
